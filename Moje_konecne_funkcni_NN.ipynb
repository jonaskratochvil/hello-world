{
  "nbformat": 4,
  "nbformat_minor": 0,
  "metadata": {
    "colab": {
      "name": "Moje_konecne_funkcni_NN.ipynb",
      "version": "0.3.2",
      "provenance": [],
      "collapsed_sections": [],
      "include_colab_link": true
    },
    "kernelspec": {
      "name": "python3",
      "display_name": "Python 3"
    },
    "accelerator": "GPU"
  },
  "cells": [
    {
      "cell_type": "markdown",
      "metadata": {
        "id": "view-in-github",
        "colab_type": "text"
      },
      "source": [
        "[View in Colaboratory](https://colab.research.google.com/github/jonaskratochvil/hello-world/blob/master/Moje_konecne_funkcni_NN.ipynb)"
      ]
    },
    {
      "metadata": {
        "id": "hyuKVPe1X3PM",
        "colab_type": "code",
        "colab": {}
      },
      "cell_type": "code",
      "source": [
        "import numpy as np\n",
        "\n"
      ],
      "execution_count": 0,
      "outputs": []
    },
    {
      "metadata": {
        "id": "aGn8-XpiX5Wi",
        "colab_type": "code",
        "colab": {}
      },
      "cell_type": "code",
      "source": [
        "def sigmoid(x):\n",
        "  return 1/(1+np.exp(-x))"
      ],
      "execution_count": 0,
      "outputs": []
    },
    {
      "metadata": {
        "id": "M-M6o4q8YBDd",
        "colab_type": "code",
        "colab": {}
      },
      "cell_type": "code",
      "source": [
        "class NeuralNetwork:\n",
        "  \n",
        "  def __init__(self, n_in_nodes, n_hidden_nodes, n_out_nodes, learning_rate):\n",
        "    \n",
        "    self.n_in_nodes = n_in_nodes\n",
        "    self.hidden_nodes = n_hidden_nodes\n",
        "    self.n_out_nodes = n_out_nodes\n",
        "    self.learning_rate = learning_rate\n",
        "    self.weights_in = np.random.randn(n_hidden_nodes, n_in_nodes)\n",
        "    self.weights_out = np.random.randn(n_out_nodes, n_hidden_nodes)\n",
        "    self.bias_in = np.random.randn(n_hidden_nodes,1)\n",
        "    self.bias_out = np.random.randn(n_out_nodes,1)\n",
        "    \n",
        "  def train(self, input_data, input_labels):\n",
        "    \n",
        "    # Transponovani dat z 4x3 na 3x4 -> weights jsou 4x3, 1x4\n",
        "    \n",
        "    input_data = np.array(input_data, ndmin = 2).T\n",
        "    input_labels = np.array(input_labels, ndmin = 2).T\n",
        "    \n",
        "    # Forward propagate 4x3 x 3x4 -> 4x4 \n",
        "    \n",
        "    l0 = sigmoid(np.dot(self.weights_in, input_data))\n",
        "    \n",
        "    # 1x4 x 4x4 -> 1x4\n",
        "    \n",
        "    l1 = sigmoid(np.dot(self.weights_out, l0))\n",
        "    \n",
        "    self.output_error = l1 - input_labels # dal jsem derivaci square loss kdyz napr 0.8 - 0 -> zaporny learning rate da to znamenko tak jak chci\n",
        "    \n",
        "    # kdyz 0.1 - 1 tak zase ten learning rate to hodi tam kam chci\n",
        "    \n",
        "    # Backpropagate -> deltas in first and zero layer from Nielsen formula\n",
        "    \n",
        "    d1 = self.output_error*(l1*(1-l1))\n",
        "    d0 = np.dot(self.weights_out.T,d1)*(l0*(1-l0))\n",
        "    \n",
        "    # Weight update change from Nielsen formula to np.dot(delta1, output0.T)\n",
        "    \n",
        "    dw_out = -self.learning_rate * np.dot(d1,l0.T)\n",
        "    dw_in = -self.learning_rate * np.dot(d0,input_data.T)\n",
        "    \n",
        "    # Update current weights to new ones\n",
        "    \n",
        "    self.weights_out += dw_out\n",
        "    self.weights_in += dw_in\n",
        "    \n",
        "  def run(self, test_data):\n",
        "     \n",
        "    test_data = np.array(test_data, ndmin = 2).T\n",
        "    l0 = sigmoid(np.dot(self.weights_in, test_data))\n",
        "    l1 = sigmoid(np.dot(self.weights_out, l0))\n",
        "    \n",
        "    return l1\n",
        "    \n",
        "    \n",
        "    "
      ],
      "execution_count": 0,
      "outputs": []
    },
    {
      "metadata": {
        "id": "kXxfKrg_bcIV",
        "colab_type": "code",
        "colab": {}
      },
      "cell_type": "code",
      "source": [
        "net = NeuralNetwork(3, 4, 1, 0.1)"
      ],
      "execution_count": 0,
      "outputs": []
    },
    {
      "metadata": {
        "id": "P3wAPUaublEB",
        "colab_type": "code",
        "colab": {}
      },
      "cell_type": "code",
      "source": [
        "X = np.array([[0,0,1],\n",
        "             [0,1,1],\n",
        "             [1,0,1],\n",
        "             [1,1,1],])\n",
        "\n",
        "y = np.array([[0,0,1,1]]).T\n",
        "\n",
        "\n",
        "for i in range(100000):\n",
        "  net.train(X,y)\n",
        "  if (i % 10000) == 0:\n",
        "\n",
        "      print (\"iteration:\" + str(i) + \" accuracy: \" + str(1 - np.mean(np.abs(net.output_error))))"
      ],
      "execution_count": 0,
      "outputs": []
    },
    {
      "metadata": {
        "id": "ek99ndaab8JV",
        "colab_type": "code",
        "colab": {
          "base_uri": "https://localhost:8080/",
          "height": 35
        },
        "outputId": "578b379b-44f9-4d20-d77c-611cbf3d0cf5"
      },
      "cell_type": "code",
      "source": [
        "point = np.array([[0,0,1]]) \n",
        "\n",
        "net.run(point)"
      ],
      "execution_count": 21,
      "outputs": [
        {
          "output_type": "execute_result",
          "data": {
            "text/plain": [
              "array([[0.00546827]])"
            ]
          },
          "metadata": {
            "tags": []
          },
          "execution_count": 21
        }
      ]
    },
    {
      "metadata": {
        "id": "qoJqxFaJgvhN",
        "colab_type": "code",
        "colab": {}
      },
      "cell_type": "code",
      "source": [
        "from tensorflow.examples.tutorials.mnist import input_data\n",
        "\n",
        "mnist = input_data.read_data_sets(\"MNIST.data/\", one_hot = True)"
      ],
      "execution_count": 0,
      "outputs": []
    },
    {
      "metadata": {
        "id": "n8VQDJwPEFG-",
        "colab_type": "code",
        "colab": {
          "base_uri": "https://localhost:8080/",
          "height": 35
        },
        "outputId": "2faaef82-b814-4238-d330-03e9689974fc"
      },
      "cell_type": "code",
      "source": [
        "print(mnist.train.labels.shape)"
      ],
      "execution_count": 5,
      "outputs": [
        {
          "output_type": "stream",
          "text": [
            "(55000, 10)\n"
          ],
          "name": "stdout"
        }
      ]
    },
    {
      "metadata": {
        "id": "WTNOpTUEEPvw",
        "colab_type": "code",
        "colab": {}
      },
      "cell_type": "code",
      "source": [
        "net_mnist = NeuralNetwork(784, 10 , 10, 0.1)"
      ],
      "execution_count": 0,
      "outputs": []
    },
    {
      "metadata": {
        "id": "TOq0KdB9EgKi",
        "colab_type": "code",
        "colab": {}
      },
      "cell_type": "code",
      "source": [
        "for i in range(1000):\n",
        "  net_mnist.train(mnist.train.images,mnist.train.labels)\n",
        "  \n",
        "  if i % 100 == 0:\n",
        "    \n",
        "    print (\"iteration:\" + str(i) + \" accuracy: \" + str(1 - np.mean(np.abs(net_mnist.output_error))))"
      ],
      "execution_count": 0,
      "outputs": []
    },
    {
      "metadata": {
        "id": "miC632zwEyio",
        "colab_type": "code",
        "colab": {
          "base_uri": "https://localhost:8080/",
          "height": 35
        },
        "outputId": "101c2135-5860-4f7e-a89d-f50177d1fad6"
      },
      "cell_type": "code",
      "source": [
        "print(mnist.test.labels[0])"
      ],
      "execution_count": 10,
      "outputs": [
        {
          "output_type": "stream",
          "text": [
            "[0. 0. 0. 0. 0. 0. 0. 1. 0. 0.]\n"
          ],
          "name": "stdout"
        }
      ]
    },
    {
      "metadata": {
        "id": "qv8T7sGBHfIC",
        "colab_type": "code",
        "colab": {}
      },
      "cell_type": "code",
      "source": [
        "net_mnist.run(mnist.test.images[0])"
      ],
      "execution_count": 0,
      "outputs": []
    },
    {
      "metadata": {
        "id": "bmQG53kmHpWZ",
        "colab_type": "code",
        "colab": {}
      },
      "cell_type": "code",
      "source": [
        ""
      ],
      "execution_count": 0,
      "outputs": []
    }
  ]
}